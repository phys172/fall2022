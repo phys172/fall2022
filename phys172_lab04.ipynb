{
  "nbformat": 4,
  "nbformat_minor": 0,
  "metadata": {
    "colab": {
      "provenance": [],
      "collapsed_sections": []
    },
    "kernelspec": {
      "name": "python3",
      "display_name": "Python 3"
    },
    "language_info": {
      "name": "python"
    }
  },
  "cells": [
    {
      "cell_type": "code",
      "source": [
        "import math\n",
        "import numpy as np\n",
        "import pandas as pd\n",
        "import matplotlib.pyplot as plt"
      ],
      "metadata": {
        "id": "VPdS56ITVaOA"
      },
      "execution_count": null,
      "outputs": []
    },
    {
      "cell_type": "markdown",
      "source": [
        "# <b><font color=\"red\"> LAB 04: Horizontal Motion under Constant Force\n",
        "\n",
        "---"
      ],
      "metadata": {
        "id": "qCaf__40aD7B"
      }
    },
    {
      "cell_type": "markdown",
      "source": [
        "<b><font color = blue> Double-Click (or enter) to provide the information below"
      ],
      "metadata": {
        "id": "s0FEQ8PEaZRB"
      }
    },
    {
      "cell_type": "markdown",
      "source": [
        "First Name:"
      ],
      "metadata": {
        "id": "KPQZO7Mfjb8S"
      }
    },
    {
      "cell_type": "markdown",
      "source": [
        "Last Name:"
      ],
      "metadata": {
        "id": "_lxcgOa7ji6Q"
      }
    },
    {
      "cell_type": "markdown",
      "source": [
        "Lab Group: [Table #]"
      ],
      "metadata": {
        "id": "czCUsAstjiRo"
      }
    },
    {
      "cell_type": "markdown",
      "source": [
        "Lab Section: [Day] [Time]"
      ],
      "metadata": {
        "id": "9g2cG8_zjiGp"
      }
    },
    {
      "cell_type": "markdown",
      "source": [
        "Purdue Username (NOT your PUID):"
      ],
      "metadata": {
        "id": "0H4wKlKlaNOP"
      }
    },
    {
      "cell_type": "markdown",
      "source": [
        "\n",
        "\n",
        "---\n",
        "\n"
      ],
      "metadata": {
        "id": "t8AoP-lba2b6"
      }
    },
    {
      "cell_type": "markdown",
      "source": [
        "**Learning Objectives**\n",
        "\n",
        "- iterate the design for AGV;\n",
        "- experiment with accelerated motion of the cart;\n",
        "- simulate accelerated motion of the cart."
      ],
      "metadata": {
        "id": "f3Lk6pTnY3uF"
      }
    },
    {
      "cell_type": "markdown",
      "source": [
        "# 0. Pre-lab Notes\n",
        "\n",
        "Welcome to PHYS 172 Lab 04! This week, we apply the Momentum Principle in more detail."
      ],
      "metadata": {
        "id": "tzHV_aL21aCp"
      }
    },
    {
      "cell_type": "markdown",
      "source": [
        "# 1. The AGV Design Metrics\n",
        "\n",
        "Recall the design problem from previous two labs."
      ],
      "metadata": {
        "id": "1UvVyvMYhJ_h"
      }
    },
    {
      "cell_type": "markdown",
      "source": [
        "A partner shipping company is requesting your team to develop an algorithm to remotely control its Automated Guided Vehicles (AGVs) at their new warehouse in a **timely** and **safe** manner. They will review your proposal and send the algorithm to a team of expert programmers who will implement it in Python. They will need a visual representation (e.g., flowchart) of your algorithm with a written description of how it works and any additional information that you consider relevant."
      ],
      "metadata": {
        "id": "L0uBf6mzGrcV"
      }
    },
    {
      "cell_type": "markdown",
      "source": [
        "Design problems are open-ended, ill-structured, and complex in nature. Thus, we started framing more our problem by identifying:\n",
        "- the shipping company as the **client**;\n",
        "- the company programmers as the **users**;\n",
        "- the warehouse workers and the AGV maintenance team as **stakeholders** (in addition to the client and users)."
      ],
      "metadata": {
        "id": "Lj2dTesF9vsJ"
      }
    },
    {
      "cell_type": "markdown",
      "source": [
        "Last week, we explored the design criteria and constraints that our algorithm must meet. Among others, there are 2 key ones:\n",
        "- each trip of an AGV must take minimum time;\n",
        "- every move must be safe for the stakeholders at all times.\n",
        "\n",
        "Criteria and contraints should be measurable through **metrics**. Let’s explore how we can measure these two metrics."
      ],
      "metadata": {
        "id": "duvAi5N8-0P8"
      }
    },
    {
      "cell_type": "markdown",
      "source": [
        "## 1.1. The Safety Constraint\n",
        "\n",
        "The parameters of AGV robots are provided:\n",
        "- Mass: 145 kg\n",
        "- Dimensions: 75×60×30 cm\n",
        "- Maximum load: 340 kg\n",
        "\n",
        "Refer to Lab 03 for the **maximum** allowed **momentum** of an AGV inside the warehouse. Then, using the mass of the AGV itself and that of the maximum load it can carry, calculate the maximum allowed speed."
      ],
      "metadata": {
        "id": "gEAqDBp9hqGY"
      }
    },
    {
      "cell_type": "markdown",
      "source": [
        "EDIT CELL(S) BELOW"
      ],
      "metadata": {
        "id": "nfjD7J4oiPDy"
      }
    },
    {
      "cell_type": "markdown",
      "source": [
        "The safety speed limit of the AGV without any load: ? (mph).\n",
        "\n",
        "The safety speed limit of the AGV without the max. load: ? (mph)."
      ],
      "metadata": {
        "id": "6BOG2AuKiSmd"
      }
    },
    {
      "cell_type": "markdown",
      "source": [
        "EDIT CELL(S) ABOVE"
      ],
      "metadata": {
        "id": "YAf-GkAgiSjR"
      }
    },
    {
      "cell_type": "markdown",
      "source": [
        "## 1.2. The Time Criterion\n",
        "\n",
        "Given the layout of the warehouse area, how fast can an AGV bring an item from the loading area to the work station? Assume that the robot leaves the loading area at one corner of the $25 \\times 25$  $m^2$ square space and reaches the farthest work station #1 at the diagonally opposite corner. And it's carrying the maximum load at the constant speed (refer to the previous exericse 1.1). This will provide an **upper bound** on the travel time."
      ],
      "metadata": {
        "id": "Y2otLujLC3Ex"
      }
    },
    {
      "cell_type": "markdown",
      "source": [
        "Note: AGVs can move only in straight lines either parallel or perpendicular to a given side of the square."
      ],
      "metadata": {
        "id": "SE9CPe7tGvk1"
      }
    },
    {
      "cell_type": "markdown",
      "source": [
        "<img src=\"https://raw.githubusercontent.com/phys172/fall2022/main/images/phys172_lab04_fig4.png\" alt=\"AGV\" height=\"500\" width=\"850\">"
      ],
      "metadata": {
        "id": "xXpTTDKyDKFK"
      }
    },
    {
      "cell_type": "markdown",
      "source": [
        "EDIT CELL(S) BELOW"
      ],
      "metadata": {
        "id": "hFibi8uEG0Fu"
      }
    },
    {
      "cell_type": "markdown",
      "source": [
        "Show your calculations (briefly) and explain your reasoning here."
      ],
      "metadata": {
        "id": "NMv0L0CeG3Bc"
      }
    },
    {
      "cell_type": "markdown",
      "source": [
        "EDIT CELL(S) ABOVE"
      ],
      "metadata": {
        "id": "CPSQtAT-G26R"
      }
    },
    {
      "cell_type": "markdown",
      "source": [
        "# 2. The Fan-Cart Experiment\n",
        "\n",
        "In this part, we will measure the motion of Smart Cart under the influence of external force. PASCO Smart Fan Accessory provides the source of that force: it blows the air out and, in turn (momentum principle!), pushes the cart forward. Please follow the setup instructions below, collect the data and analyze the graphs generated by them."
      ],
      "metadata": {
        "id": "eFfbx15L6oXY"
      }
    },
    {
      "cell_type": "markdown",
      "source": [
        "<img src=\"https://raw.githubusercontent.com/phys172/fall2022/main/images/phys172_lab04_fig3.png\" height=\"500\" width=\"800\">"
      ],
      "metadata": {
        "id": "ChbRLzRZtvux"
      }
    },
    {
      "cell_type": "markdown",
      "source": [
        "## 2.1. The Fan-Cart Setup\n",
        "\n",
        "Find a Smart Fan Accessory (the Fan from here on) in a large cardboard box, on the instructor's table. Pick a Cart and attach the Fan to it and plug in. The Cart with the Fan connected to it represent a single composite body, a whole. We refer to it as \"the Fan-Cart\".\n",
        "\n",
        "On the PASCO Capstone display, you should see icon \"Smart Fan Accessory\". Click it to connect the Fan together with the Cart."
      ],
      "metadata": {
        "id": "rxjJ0F2B70Ia"
      }
    },
    {
      "cell_type": "markdown",
      "source": [
        "- In Capstone, in the Smart Fan's options, you can click \"On\" and \"Off\" buttons. Use them to turn the Fan on and off.\n",
        "\n",
        "- Don't use the physical button located on the Fan itself. If you push that button accidentally, then hold it to turn off the fan.\n",
        "\n",
        "- You can control the power of the Fan by moving the sliding  bar under \"Thrust\" or typing a specific value for Thrust directly. Use either one to set the thrust of the Fan to 50.\n",
        "\n",
        "- When the Cart is moving, make sure the orientation of the Fan it is in the positive (+X) direction. You can reverse the direction of the air flow coming from the Fan by changing the sign of Thrust. Set it to -50 if you need to do that."
      ],
      "metadata": {
        "id": "UuehJm5_8_oy"
      }
    },
    {
      "cell_type": "markdown",
      "source": [
        "<img src=\"https://raw.githubusercontent.com/phys172/fall2022/main/images/phys172_lab04_fig1.PNG\" height=\"300\" width=\"400\">\n",
        "\n",
        "---\n",
        "\n",
        "<img src='https://raw.githubusercontent.com/phys172/fall2022/main/images/phys172_lab04_fig2.png' height=\"250\" width=\"400\">"
      ],
      "metadata": {
        "id": "c_cNOI_k9_Jf"
      }
    },
    {
      "cell_type": "markdown",
      "source": [
        "## 2.2. The Fan-Cart Data\n",
        "\n",
        "Start the Fan-Cart at rest, from the open end of the Track (to avoid magnetic repulsion!). Turn on the Thrust and start recording. Let the Fan-Cart travel the full length of the Track but stop recording before it hits the End Stop. Do not let the Cart fall off the Track at any moment.\n",
        "\n",
        "Perform 3-5 trials and choose the best Run you obtained. Export the Position, Velocity, and Acceleration Data corresponding to that Run #. Name your data file `phys172_lab04_data.csv` and upload it to your Notebook."
      ],
      "metadata": {
        "id": "G9hkTkqhBffv"
      }
    },
    {
      "cell_type": "markdown",
      "source": [
        "Build a table of 4 columns for Time (s), Position (m), Velocity (m/s), and Acceleration (m/s^2)."
      ],
      "metadata": {
        "id": "sHqERkFaauwC"
      }
    },
    {
      "cell_type": "code",
      "source": [
        "pd.set_option('display.max_rows', 10)\n",
        "pd.set_option('display.max_columns', 4)\n",
        "pasco_data = pd.read_csv('phys172_lab04_data.csv')\n",
        "#pasco_data = pasco_data.dropna()\n",
        "display(pasco_data)"
      ],
      "metadata": {
        "id": "SZ05nKb3YTgP",
        "colab": {
          "base_uri": "https://localhost:8080/",
          "height": 424
        },
        "outputId": "ba9d079b-5c60-42f3-80f7-1dc06293d7dd"
      },
      "execution_count": null,
      "outputs": [
        {
          "output_type": "display_data",
          "data": {
            "text/plain": [
              "    Time (s) Run #1  Position (m) Run #1  Velocity (m/s) Run #1  \\\n",
              "0              0.00               0.0124                    NaN   \n",
              "1              0.05               0.0166                  0.087   \n",
              "2              0.10               0.0211                  0.092   \n",
              "3              0.15               0.0258                  0.097   \n",
              "4              0.20               0.0308                  0.101   \n",
              "..              ...                  ...                    ...   \n",
              "69             3.45               0.7493                  0.325   \n",
              "70             3.50               0.7656                  0.327   \n",
              "71             3.55               0.7819                  0.329   \n",
              "72             3.60               0.7985                  0.333   \n",
              "73             3.65               0.8152                    NaN   \n",
              "\n",
              "    Acceleration (m/s²) Run #1  \n",
              "0                          NaN  \n",
              "1                          NaN  \n",
              "2                        0.093  \n",
              "3                        0.086  \n",
              "4                        0.082  \n",
              "..                         ...  \n",
              "69                       0.034  \n",
              "70                       0.044  \n",
              "71                         NaN  \n",
              "72                         NaN  \n",
              "73                         NaN  \n",
              "\n",
              "[74 rows x 4 columns]"
            ],
            "text/html": [
              "\n",
              "  <div id=\"df-7b213850-b41c-4b22-897c-b6ddba6608ce\">\n",
              "    <div class=\"colab-df-container\">\n",
              "      <div>\n",
              "<style scoped>\n",
              "    .dataframe tbody tr th:only-of-type {\n",
              "        vertical-align: middle;\n",
              "    }\n",
              "\n",
              "    .dataframe tbody tr th {\n",
              "        vertical-align: top;\n",
              "    }\n",
              "\n",
              "    .dataframe thead th {\n",
              "        text-align: right;\n",
              "    }\n",
              "</style>\n",
              "<table border=\"1\" class=\"dataframe\">\n",
              "  <thead>\n",
              "    <tr style=\"text-align: right;\">\n",
              "      <th></th>\n",
              "      <th>Time (s) Run #1</th>\n",
              "      <th>Position (m) Run #1</th>\n",
              "      <th>Velocity (m/s) Run #1</th>\n",
              "      <th>Acceleration (m/s²) Run #1</th>\n",
              "    </tr>\n",
              "  </thead>\n",
              "  <tbody>\n",
              "    <tr>\n",
              "      <th>0</th>\n",
              "      <td>0.00</td>\n",
              "      <td>0.0124</td>\n",
              "      <td>NaN</td>\n",
              "      <td>NaN</td>\n",
              "    </tr>\n",
              "    <tr>\n",
              "      <th>1</th>\n",
              "      <td>0.05</td>\n",
              "      <td>0.0166</td>\n",
              "      <td>0.087</td>\n",
              "      <td>NaN</td>\n",
              "    </tr>\n",
              "    <tr>\n",
              "      <th>2</th>\n",
              "      <td>0.10</td>\n",
              "      <td>0.0211</td>\n",
              "      <td>0.092</td>\n",
              "      <td>0.093</td>\n",
              "    </tr>\n",
              "    <tr>\n",
              "      <th>3</th>\n",
              "      <td>0.15</td>\n",
              "      <td>0.0258</td>\n",
              "      <td>0.097</td>\n",
              "      <td>0.086</td>\n",
              "    </tr>\n",
              "    <tr>\n",
              "      <th>4</th>\n",
              "      <td>0.20</td>\n",
              "      <td>0.0308</td>\n",
              "      <td>0.101</td>\n",
              "      <td>0.082</td>\n",
              "    </tr>\n",
              "    <tr>\n",
              "      <th>...</th>\n",
              "      <td>...</td>\n",
              "      <td>...</td>\n",
              "      <td>...</td>\n",
              "      <td>...</td>\n",
              "    </tr>\n",
              "    <tr>\n",
              "      <th>69</th>\n",
              "      <td>3.45</td>\n",
              "      <td>0.7493</td>\n",
              "      <td>0.325</td>\n",
              "      <td>0.034</td>\n",
              "    </tr>\n",
              "    <tr>\n",
              "      <th>70</th>\n",
              "      <td>3.50</td>\n",
              "      <td>0.7656</td>\n",
              "      <td>0.327</td>\n",
              "      <td>0.044</td>\n",
              "    </tr>\n",
              "    <tr>\n",
              "      <th>71</th>\n",
              "      <td>3.55</td>\n",
              "      <td>0.7819</td>\n",
              "      <td>0.329</td>\n",
              "      <td>NaN</td>\n",
              "    </tr>\n",
              "    <tr>\n",
              "      <th>72</th>\n",
              "      <td>3.60</td>\n",
              "      <td>0.7985</td>\n",
              "      <td>0.333</td>\n",
              "      <td>NaN</td>\n",
              "    </tr>\n",
              "    <tr>\n",
              "      <th>73</th>\n",
              "      <td>3.65</td>\n",
              "      <td>0.8152</td>\n",
              "      <td>NaN</td>\n",
              "      <td>NaN</td>\n",
              "    </tr>\n",
              "  </tbody>\n",
              "</table>\n",
              "<p>74 rows × 4 columns</p>\n",
              "</div>\n",
              "      <button class=\"colab-df-convert\" onclick=\"convertToInteractive('df-7b213850-b41c-4b22-897c-b6ddba6608ce')\"\n",
              "              title=\"Convert this dataframe to an interactive table.\"\n",
              "              style=\"display:none;\">\n",
              "        \n",
              "  <svg xmlns=\"http://www.w3.org/2000/svg\" height=\"24px\"viewBox=\"0 0 24 24\"\n",
              "       width=\"24px\">\n",
              "    <path d=\"M0 0h24v24H0V0z\" fill=\"none\"/>\n",
              "    <path d=\"M18.56 5.44l.94 2.06.94-2.06 2.06-.94-2.06-.94-.94-2.06-.94 2.06-2.06.94zm-11 1L8.5 8.5l.94-2.06 2.06-.94-2.06-.94L8.5 2.5l-.94 2.06-2.06.94zm10 10l.94 2.06.94-2.06 2.06-.94-2.06-.94-.94-2.06-.94 2.06-2.06.94z\"/><path d=\"M17.41 7.96l-1.37-1.37c-.4-.4-.92-.59-1.43-.59-.52 0-1.04.2-1.43.59L10.3 9.45l-7.72 7.72c-.78.78-.78 2.05 0 2.83L4 21.41c.39.39.9.59 1.41.59.51 0 1.02-.2 1.41-.59l7.78-7.78 2.81-2.81c.8-.78.8-2.07 0-2.86zM5.41 20L4 18.59l7.72-7.72 1.47 1.35L5.41 20z\"/>\n",
              "  </svg>\n",
              "      </button>\n",
              "      \n",
              "  <style>\n",
              "    .colab-df-container {\n",
              "      display:flex;\n",
              "      flex-wrap:wrap;\n",
              "      gap: 12px;\n",
              "    }\n",
              "\n",
              "    .colab-df-convert {\n",
              "      background-color: #E8F0FE;\n",
              "      border: none;\n",
              "      border-radius: 50%;\n",
              "      cursor: pointer;\n",
              "      display: none;\n",
              "      fill: #1967D2;\n",
              "      height: 32px;\n",
              "      padding: 0 0 0 0;\n",
              "      width: 32px;\n",
              "    }\n",
              "\n",
              "    .colab-df-convert:hover {\n",
              "      background-color: #E2EBFA;\n",
              "      box-shadow: 0px 1px 2px rgba(60, 64, 67, 0.3), 0px 1px 3px 1px rgba(60, 64, 67, 0.15);\n",
              "      fill: #174EA6;\n",
              "    }\n",
              "\n",
              "    [theme=dark] .colab-df-convert {\n",
              "      background-color: #3B4455;\n",
              "      fill: #D2E3FC;\n",
              "    }\n",
              "\n",
              "    [theme=dark] .colab-df-convert:hover {\n",
              "      background-color: #434B5C;\n",
              "      box-shadow: 0px 1px 3px 1px rgba(0, 0, 0, 0.15);\n",
              "      filter: drop-shadow(0px 1px 2px rgba(0, 0, 0, 0.3));\n",
              "      fill: #FFFFFF;\n",
              "    }\n",
              "  </style>\n",
              "\n",
              "      <script>\n",
              "        const buttonEl =\n",
              "          document.querySelector('#df-7b213850-b41c-4b22-897c-b6ddba6608ce button.colab-df-convert');\n",
              "        buttonEl.style.display =\n",
              "          google.colab.kernel.accessAllowed ? 'block' : 'none';\n",
              "\n",
              "        async function convertToInteractive(key) {\n",
              "          const element = document.querySelector('#df-7b213850-b41c-4b22-897c-b6ddba6608ce');\n",
              "          const dataTable =\n",
              "            await google.colab.kernel.invokeFunction('convertToInteractive',\n",
              "                                                     [key], {});\n",
              "          if (!dataTable) return;\n",
              "\n",
              "          const docLinkHtml = 'Like what you see? Visit the ' +\n",
              "            '<a target=\"_blank\" href=https://colab.research.google.com/notebooks/data_table.ipynb>data table notebook</a>'\n",
              "            + ' to learn more about interactive tables.';\n",
              "          element.innerHTML = '';\n",
              "          dataTable['output_type'] = 'display_data';\n",
              "          await google.colab.output.renderOutput(dataTable, element);\n",
              "          const docLink = document.createElement('div');\n",
              "          docLink.innerHTML = docLinkHtml;\n",
              "          element.appendChild(docLink);\n",
              "        }\n",
              "      </script>\n",
              "    </div>\n",
              "  </div>\n",
              "  "
            ]
          },
          "metadata": {}
        }
      ]
    },
    {
      "cell_type": "markdown",
      "source": [
        "Plot the Position, Velocity, and Acceleration Graphs based on your data."
      ],
      "metadata": {
        "id": "9pKj-lBHDlvh"
      }
    },
    {
      "cell_type": "code",
      "source": [
        "col_names = []\n",
        "for col in pasco_data.columns:\n",
        "  col_names.append(col)\n",
        "\n",
        "time_data = pasco_data[col_names[0]]\n",
        "pos_data = pasco_data[col_names[1]]\n",
        "vel_data = pasco_data[col_names[2]]\n",
        "acc_data = pasco_data[col_names[3]]"
      ],
      "metadata": {
        "id": "i-WD24hVD2U1"
      },
      "execution_count": null,
      "outputs": []
    },
    {
      "cell_type": "code",
      "source": [
        "plt.figure(1, figsize=(12, 8))\n",
        "plt.plot(time_data, pos_data, 'o')\n",
        "plt.xlabel('Time (s)')\n",
        "plt.ylabel('Position (m)')\n",
        "plt.grid()"
      ],
      "metadata": {
        "id": "ZbmRCTm8EKbA",
        "colab": {
          "base_uri": "https://localhost:8080/",
          "height": 497
        },
        "outputId": "d84d8288-87b5-4001-cd22-3fbe84ce429a"
      },
      "execution_count": null,
      "outputs": [
        {
          "output_type": "display_data",
          "data": {
            "text/plain": [
              "<Figure size 864x576 with 1 Axes>"
            ],
            "image/png": "[encoded data removed]"
          },
          "metadata": {
            "needs_background": "light"
          }
        }
      ]
    },
    {
      "cell_type": "code",
      "source": [
        "plt.figure(2, figsize=(12, 6))\n",
        "plt.plot(time_data, vel_data, 'o')\n",
        "plt.xlabel('Time (s)')\n",
        "plt.ylabel('Velocity (m/s)')\n",
        "plt.grid()"
      ],
      "metadata": {
        "id": "jarpKLCvERcl",
        "colab": {
          "base_uri": "https://localhost:8080/",
          "height": 388
        },
        "outputId": "853bbfdb-6531-4026-adb3-fbe3c44a3dbe"
      },
      "execution_count": null,
      "outputs": [
        {
          "output_type": "display_data",
          "data": {
            "text/plain": [
              "<Figure size 864x432 with 1 Axes>"
            ],
            "image/png": "[encoded data removed]"
          },
          "metadata": {
            "needs_background": "light"
          }
        }
      ]
    },
    {
      "cell_type": "code",
      "source": [
        "plt.figure(3, figsize=(12, 4))\n",
        "plt.plot(time_data, acc_data, 'o')\n",
        "plt.xlabel('Time (s)')\n",
        "plt.ylabel('Acceleration (m / s^2)')\n",
        "plt.grid()"
      ],
      "metadata": {
        "id": "weIuCjTjEVmm",
        "colab": {
          "base_uri": "https://localhost:8080/",
          "height": 279
        },
        "outputId": "bb24e169-f3b5-43ab-c830-8e3c8a445ad8"
      },
      "execution_count": null,
      "outputs": [
        {
          "output_type": "display_data",
          "data": {
            "text/plain": [
              "<Figure size 864x288 with 1 Axes>"
            ],
            "image/png": "[encoded data removed]"
          },
          "metadata": {
            "needs_background": "light"
          }
        }
      ]
    },
    {
      "cell_type": "markdown",
      "source": [
        "## 2.3. The Fan-Cart Model\n",
        "\n",
        "The following code builds a computational model of the Fan Cart. It defines a digital object `FanCart` with the properties corresponding to the mass, position, and momentum of the real Fan Cart. Run it and proceed if you don't get any error messages."
      ],
      "metadata": {
        "id": "L2wQYb8BFXgA"
      }
    },
    {
      "cell_type": "code",
      "source": [
        "class FanCart(object):\n",
        "  \"\"\"This is a class of objects Fan Cart.\"\"\"\n",
        "\n",
        "  def __init__(self, initPos, initVel):\n",
        "    \"\"\"Initialize the built-in parameter mass and the initial values for \n",
        "       position and velocity.\"\"\"\n",
        "\n",
        "    massCart = (245 + 23.6) / 1000 #mass of the cart with the bumper (kg)\n",
        "    massFan = 280 / 1000 #mass of the fan with the batteries (kg)\n",
        "    self._mass = massCart + massFan #the total mass of the Fan Cart\n",
        "    self._pos = initPos\n",
        "    self._mom = self._mass * initVel\n",
        "\n",
        "  def get_mass(self):\n",
        "    \"\"\"Get the mass of the Fan Cart\"\"\"\n",
        "    return self._mass\n",
        "\n",
        "  def move(self, Fnet, initTime, finTime): # This function defines a model of the motion i.e. position vs. time based on the the net force, initial and final time.  You will use this model below.\n",
        "    \"\"\"Get the record of the position of the Fan Cart after moving \n",
        "       from start to finish (initTime --> finTime) under the influence of \n",
        "       the force Fnet.\"\"\"\n",
        "\n",
        "    m = self._mass\n",
        "    x = self._pos\n",
        "    p = self._mom\n",
        "    t = initTime\n",
        "    numIter = 100\n",
        "    timeStep = (finTime - initTime) / numIter\n",
        "\n",
        "    moveTime = [t]\n",
        "    movePos = [x]\n",
        "    for i in range(numIter):\n",
        "      p += Fnet * timeStep #momentum update\n",
        "      x += (p / m) * timeStep #position update\n",
        "      t += timeStep\n",
        "      moveTime.append(t)\n",
        "      movePos.append(x)\n",
        "\n",
        "    return np.array(moveTime), np.array(movePos)"
      ],
      "metadata": {
        "id": "IGdjV_5-HE5e"
      },
      "execution_count": null,
      "outputs": []
    },
    {
      "cell_type": "markdown",
      "source": [
        "The previous code cell only built a general object called \"FanCart\". Next, you need to specify your particular model below. Let's call it `myCart`. It is defined by the call `FanCart(...)` which takes in 2 arguments: the initial position `initPos` (m) and the initial velocity `initVel` (m/s) of your Fan Cart. Insert the corresponding values from your data instead of the numbers provided."
      ],
      "metadata": {
        "id": "mCofMLGalYHE"
      }
    },
    {
      "cell_type": "markdown",
      "source": [
        "EDIT CELL(S) BELOW"
      ],
      "metadata": {
        "id": "POkfBpnRmv8u"
      }
    },
    {
      "cell_type": "code",
      "source": [
        "#Create your FanCart object:\n",
        "myCart = FanCart(initPos=0.0166, initVel=0.087)  # Change the numbers for initial Position and initial Velocity to match your data."
      ],
      "metadata": {
        "id": "nJo793yRbsXe"
      },
      "execution_count": null,
      "outputs": []
    },
    {
      "cell_type": "markdown",
      "source": [
        "EDIT CELL(S) ABOVE"
      ],
      "metadata": {
        "id": "QFwAn7FTmylX"
      }
    },
    {
      "cell_type": "markdown",
      "source": [
        "Having done that, we can simulate the motion of the model \"myCart\". The following code generates data for the position of the model using function `move(...)`. There are 3 arguments: the force `Fnet` (N) acting on the cart, the initial time `initTime` (s) of motion, and the final time `finTime` (s). For the last two, please insert the initial and final time values from your PASCO data similarly to the previous exercise. But you will need to measure the force of the Fan for the first argument. \n",
        "\n",
        "Use the force sensor on your desk to find the force with which the Fan pushes the Cart (at the corresponding 50% of power that was used for experiment). Replace the corresponding number in the code cell below. HINT: obtain the average value of the force from Capstone's Force graph."
      ],
      "metadata": {
        "id": "KXKD-cCWnVG7"
      }
    },
    {
      "cell_type": "markdown",
      "source": [
        "EDIT CELL(S) BELOW"
      ],
      "metadata": {
        "id": "rqndu40pqnme"
      }
    },
    {
      "cell_type": "code",
      "source": [
        "#Move your FanCart object and generate the data:\n",
        "model_time, model_pos = myCart.move(Fnet=0.03758, initTime=0.05, finTime=3.60) \n",
        "###Change Fnet to the average value of the force of the fan as measured by the force sensor.\n",
        "###Change the initial and final time to match your data."
      ],
      "metadata": {
        "id": "CfpiWjuKcyf1"
      },
      "execution_count": null,
      "outputs": []
    },
    {
      "cell_type": "markdown",
      "source": [
        "EDIT CELL(S) ABOVE"
      ],
      "metadata": {
        "id": "qJ1QPliuqqJs"
      }
    },
    {
      "cell_type": "markdown",
      "source": [
        "To test your model in comparison with the experimental data, plot the Position graph below. If the discrepancy is significant, then go back to the previous two steps and check your parameters (force) and initial values (time, position, and velocity)."
      ],
      "metadata": {
        "id": "2_Q4Lg_yq96D"
      }
    },
    {
      "cell_type": "code",
      "source": [
        "plt.figure(4, figsize=(12, 8))\n",
        "plt.plot(time_data, pos_data, 'o', label='measured')\n",
        "plt.plot(model_time, model_pos, label='predicted')\n",
        "plt.xlabel('Time (s)', fontsize=12)\n",
        "plt.ylabel('Position (m)', fontsize = 12)\n",
        "plt.legend(loc='best', fontsize=12)\n",
        "plt.grid()"
      ],
      "metadata": {
        "id": "TYtde9z9dx49",
        "colab": {
          "base_uri": "https://localhost:8080/",
          "height": 500
        },
        "outputId": "4f62a853-0e85-4a39-86bb-5234024fe133"
      },
      "execution_count": null,
      "outputs": [
        {
          "output_type": "display_data",
          "data": {
            "text/plain": [
              "<Figure size 864x576 with 1 Axes>"
            ],
            "image/png": "[encoded data removed]"
          },
          "metadata": {
            "needs_background": "light"
          }
        }
      ]
    },
    {
      "cell_type": "markdown",
      "source": [
        "<font color=\"red\">**Put the Cart back** to its charging station and leave it **plugged in**. Leave the Force sensor at your desk also plugged in. Put the Fan back to its box at the instructor's table."
      ],
      "metadata": {
        "id": "JlSx6w5lKyyL"
      }
    },
    {
      "cell_type": "markdown",
      "source": [
        "# 3. The AGV Flowchart Update\n",
        "\n",
        "Refer to your flowchart from Lab 03. Modify it now to account for the ideas explored in this lab.\n",
        "- Does your flowchart meet the criteria and constraints from Part 1?\n",
        "- Does it incorporate the metrics defined for those requirements?\n",
        "\n",
        "We can not assume the programmers will have an exhaustive knowledge about physics. Add to your flowchart or in a separate paragraph any principle and/or concept(s) that the programmers need to include when using your flowchart.\n",
        "\n",
        "What assumptions/approximations are you making to assure your algorithm will work properly?"
      ],
      "metadata": {
        "id": "npAJIQBOGZQQ"
      }
    },
    {
      "cell_type": "markdown",
      "source": [
        "EDIT CELL(S) BELOW"
      ],
      "metadata": {
        "id": "SBS9C9ZwKHYy"
      }
    },
    {
      "cell_type": "markdown",
      "source": [
        "Attach your udpated flowchart here."
      ],
      "metadata": {
        "id": "u-stb9PPKHS6"
      }
    },
    {
      "cell_type": "markdown",
      "source": [
        "Add your written comments here."
      ],
      "metadata": {
        "id": "In0KFxoiKXbZ"
      }
    },
    {
      "cell_type": "markdown",
      "source": [
        "EDIT CELL(S) ABOVE"
      ],
      "metadata": {
        "id": "I4IMBVN_KHHX"
      }
    },
    {
      "cell_type": "markdown",
      "source": [],
      "metadata": {
        "id": "I99pziCoLNxl"
      }
    },
    {
      "cell_type": "markdown",
      "source": [
        "# 4. Before You Leave\n",
        "\n",
        "**Reach out to your TA** to confirm your work for today. \n",
        "\n",
        "**Clean up your lab table** before you leave. Make sure to sign out of the lab PC. And don't forget your personal belongings."
      ],
      "metadata": {
        "id": "l6UljpGCkIH2"
      }
    },
    {
      "cell_type": "markdown",
      "source": [
        "# 5. Post-lab Notes\n",
        "\n",
        "Please follow the directions on Brightspace for **uploading this Notebook in both IPYNB and PDF format**.  Please note that before you print to PDF you must **expand ALL** of the cells so that your responses are visible in the PDF."
      ],
      "metadata": {
        "id": "py9EqkS4TjWm"
      }
    }
  ]
}