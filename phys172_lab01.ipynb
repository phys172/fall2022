{
  "nbformat": 4,
  "nbformat_minor": 0,
  "metadata": {
    "colab": {
      "name": "phys172_lab01.ipynb",
      "provenance": [],
      "collapsed_sections": [
        "oxPwuoaBaPI2",
        "HstO0fT-cCUl",
        "KLCI4wyVgoh9",
        "OWbevhhGobeU",
        "SS1LZKJnq8X1",
        "8Nb4Pz2QtvrE"
      ]
    },
    "kernelspec": {
      "name": "python3",
      "display_name": "Python 3"
    },
    "language_info": {
      "name": "python"
    }
  },
  "cells": [
    {
      "cell_type": "markdown",
      "source": [
        "# 1. Introduction"
      ],
      "metadata": {
        "id": "Il2RMRdbZD-2"
      }
    },
    {
      "cell_type": "markdown",
      "source": [
        "Welcome to PHYS 172 Lab! This is your Lab Notebook (The Notebook, from here on) where you can write, code, calculate, and simulate things. Each lab is an activity designed for you to discover the physics that is covered in other parts of the course (textbook, lecture, and recitation). In addition, every lab includes an experiment to provide some hands-on experience."
      ],
      "metadata": {
        "id": "vMN2rYC-M_M3"
      }
    },
    {
      "cell_type": "markdown",
      "source": [
        "We are using [The Jupyter Notebook](https://jupyter-notebook.readthedocs.io/en/latest/notebook.html) for all laboratory activities in this course. If you are new to it, no need to worry. For the longest time, we have been using Microsoft Word to write up and submit PHYS 172 Lab works. The Notebook is just a technical step up. It provides us with a convenient way of making notes with calculations. You can also type equations, build tables, and plot graphs with ease. We are using [Google Colaboratory](https://colab.research.google.com/?utm_source=scs-index#scrollTo=Nma_JWh-W-IF) (Colab shortly) as the most readily available environment for this task."
      ],
      "metadata": {
        "id": "HEzXRGsQQaw-"
      }
    },
    {
      "cell_type": "markdown",
      "source": [
        "The Notebook consists of a sequence of Text and Code cells. We will use the Text cells for writing, inserting images, providing links, and generating *equations*. We will use the Code cells for programming, performing calculations, and generating *graphs*. **Please only edit a Text/Code cell when you are explicitly asked to do so.**"
      ],
      "metadata": {
        "id": "8jDArSAAWZmS"
      }
    },
    {
      "cell_type": "markdown",
      "source": [
        "# 2. The Notebook Walkthrough"
      ],
      "metadata": {
        "id": "-K9tWEwSWacO"
      }
    },
    {
      "cell_type": "markdown",
      "source": [
        "The Notebook consists of a sequence of Text and Code cells. We will use the Text cells for writing, inserting images, providing links, and generating *equations*. We will use the Code cells for programming, performing calculations, and generating *graphs*. **Please only edit a Text/Code cell when you are explicitly asked to do so.**"
      ],
      "metadata": {
        "id": "eTxI_P_IZZog"
      }
    },
    {
      "cell_type": "markdown",
      "source": [
        "## 2.1. The Topic of Mechanics\n",
        "\n",
        "The title of this course is \"Modern Mechanics\". **What do you know about it?** Why is it called \"Modern\"? Is there \"Ancient\" Mechanics? Based on its title alone, **what do you expect from this course?** **What do you think you can learn?** Write a short paragraph (3-5 sentences) to answer these questions."
      ],
      "metadata": {
        "id": "oxPwuoaBaPI2"
      }
    },
    {
      "cell_type": "markdown",
      "source": [
        "EDIT THE CELL(S) BELOW"
      ],
      "metadata": {
        "id": "bT5OOILDZjwU"
      }
    },
    {
      "cell_type": "markdown",
      "source": [
        ""
      ],
      "metadata": {
        "id": "y2L_yk71ZwAM"
      }
    },
    {
      "cell_type": "markdown",
      "source": [
        "EDIT THE CELL(S) ABOVE"
      ],
      "metadata": {
        "id": "Qkzd38NfZwYu"
      }
    },
    {
      "cell_type": "markdown",
      "source": [
        "## 2.2. The Language of Physics\n",
        "\n",
        "Equations constitute both thinking and communcation aspects of physics. The Notebook has a special feature to type them neatly: enclose your equation by symbol `$` and it will format text into equation. For example, to format the famous E = mc^2 you literally type \"`$E=mc^2$`\" and it becomes $E = mc^2$. Practice now. Type some of the equations you know with the proper formatting."
      ],
      "metadata": {
        "id": "HstO0fT-cCUl"
      }
    },
    {
      "cell_type": "markdown",
      "source": [
        "EDIT THE CELL(S) BELOW"
      ],
      "metadata": {
        "id": "4JzftxFzfvIq"
      }
    },
    {
      "cell_type": "markdown",
      "source": [
        ""
      ],
      "metadata": {
        "id": "qWXbeDruf06z"
      }
    },
    {
      "cell_type": "markdown",
      "source": [
        "EDIT THE CELL(S) ABOVE"
      ],
      "metadata": {
        "id": "EQ3vShyhfvZI"
      }
    },
    {
      "cell_type": "markdown",
      "source": [
        "## 2.3. The Instrument of Science\n",
        "\n",
        "Computation has been an indispensable tool of scientists and engineers throughout history. Programming is the modern way of computing things efficiently. For our purposes in this course, computer is just an advanced calculator. So, you don't have to learn programming to use the algorithms provided by the Code cells of the Notebook. However, you will need to understand some logic and rules behind them."
      ],
      "metadata": {
        "id": "KLCI4wyVgoh9"
      }
    },
    {
      "cell_type": "markdown",
      "source": [
        "### 2.3.1. Exercise A\n",
        "\n",
        "Computers speak in numbers. Humans speak in symbols. The operator `=` connects the two by binding a value (e.g. number 2) to a variable (e.g. symbol \"a\"). It is called the assignment operator. The key advantage of using variables is that we can change the values according to our needs. \n",
        "\n",
        "Change the values of `a` and `b` (choose any numbers) and run the following program to find their sum."
      ],
      "metadata": {
        "id": "OWbevhhGobeU"
      }
    },
    {
      "cell_type": "markdown",
      "source": [
        "EDIT THE CELL(S) BELOW"
      ],
      "metadata": {
        "id": "Q0VoWhNIqwO6"
      }
    },
    {
      "cell_type": "code",
      "source": [
        "a = 2\n",
        "b = 3\n",
        "print(a + b)"
      ],
      "metadata": {
        "colab": {
          "base_uri": "https://localhost:8080/"
        },
        "id": "vMOt9hkWorIG",
        "outputId": "c146ef9d-7a22-492b-93aa-a3849709e789"
      },
      "execution_count": 1,
      "outputs": [
        {
          "output_type": "stream",
          "name": "stdout",
          "text": [
            "5\n"
          ]
        }
      ]
    },
    {
      "cell_type": "markdown",
      "source": [
        "EDIT THE CELL(S) ABOVE"
      ],
      "metadata": {
        "id": "oZvpjRauqzuz"
      }
    },
    {
      "cell_type": "markdown",
      "source": [
        "### 2.3.2. Exercise B\n",
        "\n",
        "In programming, operators `+` `-` `*` `/` correspond to their common-sense meanings: the 4 basic arithmetic operations. The following programs give examples of multiplication and division. For the program that follows, delete statement `a - b` in the last line (inside the parentheses of of `print()`) and instead **find the product of `a` and `b` divided by their sum**."
      ],
      "metadata": {
        "id": "SS1LZKJnq8X1"
      }
    },
    {
      "cell_type": "code",
      "source": [
        "a = 2\n",
        "b = 3\n",
        "print(a * b)"
      ],
      "metadata": {
        "colab": {
          "base_uri": "https://localhost:8080/"
        },
        "id": "8owYiWtNr9DF",
        "outputId": "de97e2f8-29f5-4351-d18c-262ecb3c7509"
      },
      "execution_count": 2,
      "outputs": [
        {
          "output_type": "stream",
          "name": "stdout",
          "text": [
            "6\n"
          ]
        }
      ]
    },
    {
      "cell_type": "code",
      "source": [
        "c = 5\n",
        "d = 4\n",
        "print(c / d)"
      ],
      "metadata": {
        "colab": {
          "base_uri": "https://localhost:8080/"
        },
        "id": "jzQNpMUKsFB6",
        "outputId": "85ede600-31cb-4483-aa81-92462c58ad68"
      },
      "execution_count": 3,
      "outputs": [
        {
          "output_type": "stream",
          "name": "stdout",
          "text": [
            "1.25\n"
          ]
        }
      ]
    },
    {
      "cell_type": "markdown",
      "source": [
        "EDIT THE CELL(S) BELOW"
      ],
      "metadata": {
        "id": "dBjLwnaDtG9_"
      }
    },
    {
      "cell_type": "code",
      "source": [
        "a = 2\n",
        "b = 3\n",
        "print(a - b)"
      ],
      "metadata": {
        "colab": {
          "base_uri": "https://localhost:8080/"
        },
        "id": "q3u_XCPMsQYB",
        "outputId": "d1090681-b268-4747-be27-ed070c8e466a"
      },
      "execution_count": 4,
      "outputs": [
        {
          "output_type": "stream",
          "name": "stdout",
          "text": [
            "-1\n"
          ]
        }
      ]
    },
    {
      "cell_type": "markdown",
      "source": [
        "EDIT THE CELL(S) ABOVE"
      ],
      "metadata": {
        "id": "Mk3TMU-DtIKN"
      }
    },
    {
      "cell_type": "markdown",
      "source": [
        "### 2.3.3. Exercise C\n",
        "\n",
        "Algorithm is a set of instructions. Computers strictly follow the instructions provided by their users. For a given program, computer reads it from top to bottom, line by line. And for each line of code, computer goes from right to left. Consider the following example. Variable `a` updates itself, without the aid of additional variable `b`. This is possible due to the conventional order just outlined (top to bottom, right to left). Note that algebraically, this program would be completely wrong: $a = a + 3$ yields $3 = 0$!\n",
        "\n",
        "In the empty Code cell that follows, copy the program and change the line `a = a + 3` to an \"equivalent\" `a - 3 = a`. Then run the code. You should get a `SyntaxError` because it is against the rules of programming. Just like it is not allowed to divide by 0 in Math or to say \"we was ...\" in English."
      ],
      "metadata": {
        "id": "8Nb4Pz2QtvrE"
      }
    },
    {
      "cell_type": "code",
      "source": [
        "a = 2\n",
        "a = a + 3\n",
        "print(a)"
      ],
      "metadata": {
        "colab": {
          "base_uri": "https://localhost:8080/"
        },
        "id": "NDQZUJ8musHt",
        "outputId": "86f9cb16-5cfd-47fb-c01a-3bb26938642d"
      },
      "execution_count": 11,
      "outputs": [
        {
          "output_type": "stream",
          "name": "stdout",
          "text": [
            "5\n"
          ]
        }
      ]
    },
    {
      "cell_type": "markdown",
      "source": [
        "EDIT THE CELL(S) BELOW"
      ],
      "metadata": {
        "id": "9DxtnO53yJ7u"
      }
    },
    {
      "cell_type": "code",
      "source": [
        ""
      ],
      "metadata": {
        "id": "1HmpEwhcyK-c"
      },
      "execution_count": null,
      "outputs": []
    },
    {
      "cell_type": "markdown",
      "source": [
        "EDIT THE CELL(S) ABOVE"
      ],
      "metadata": {
        "id": "EOjxDYiByLTy"
      }
    },
    {
      "cell_type": "markdown",
      "source": [
        "### 2.3.4. Exercise D\n",
        "\n",
        "Suppose we want to solve an equation $2x - 3 = x$. Algebraically, it leads to $2x - x = +3$ and $x = 3$. Now try to solve it **numerically**. \n",
        "- You can use any of the code lines provided in the previous exercises. \n",
        "- You can type your own code too, if you can.\n",
        "- You can also add Code cells if you need to run your code mutliple times to obtain the result. \n",
        "\n",
        "*Hint: computer is a machine, and machines solve problems by trial and error.*"
      ],
      "metadata": {
        "id": "c8lwuZxP0Inj"
      }
    },
    {
      "cell_type": "markdown",
      "source": [
        "EDIT THE CELL(S) BELOW"
      ],
      "metadata": {
        "id": "6n2TaFof0q4k"
      }
    },
    {
      "cell_type": "markdown",
      "source": [
        "Type your reasoning here to explain your solution."
      ],
      "metadata": {
        "id": "rsKf6Oj2bIac"
      }
    },
    {
      "cell_type": "code",
      "source": [
        "#Type your programming here to execute your solution.\n",
        "#Add as many Code cells as you need."
      ],
      "metadata": {
        "colab": {
          "base_uri": "https://localhost:8080/"
        },
        "id": "xf_yFVBp0sFZ",
        "outputId": "bd96c27b-eb09-4b36-e36b-b2e1eddee563"
      },
      "execution_count": 1,
      "outputs": [
        {
          "output_type": "stream",
          "name": "stdout",
          "text": [
            "7\n"
          ]
        }
      ]
    },
    {
      "cell_type": "markdown",
      "source": [
        "EDIT THE CELL(S) ABOVE"
      ],
      "metadata": {
        "id": "XtxHARII0sNS"
      }
    },
    {
      "cell_type": "markdown",
      "source": [
        "# 2. Conclusion"
      ],
      "metadata": {
        "id": "BW1hzZmZbz0s"
      }
    },
    {
      "cell_type": "markdown",
      "source": [
        "Just like a Word Document file ends with extension `.docx`, a Jupyter Notebook file ends with `.ipynb`. In the \"Download\" (see \"File\" in the menu bar) options provided by Colab, however, you can also create a `.py` file. **Please always download your Notebook as `.ipynb` only!** You can also \"Print\" the Notebook as a `.pdf` file. To submit your Notebook for each Lab on Brightspace, **upload both IPYNB and PDF versions** of it."
      ],
      "metadata": {
        "id": "py9EqkS4TjWm"
      }
    }
  ]
}